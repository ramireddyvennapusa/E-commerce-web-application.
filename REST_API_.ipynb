{
  "nbformat": 4,
  "nbformat_minor": 0,
  "metadata": {
    "colab": {
      "provenance": []
    },
    "kernelspec": {
      "name": "python3",
      "display_name": "Python 3"
    },
    "language_info": {
      "name": "python"
    }
  },
  "cells": [
    {
      "cell_type": "code",
      "source": [
        "pip install flask psycopg2-binary flask-cors\n"
      ],
      "metadata": {
        "colab": {
          "base_uri": "https://localhost:8080/"
        },
        "id": "JTN22n_4JdZb",
        "outputId": "ecc38c03-0cab-4626-8017-3d9e376b33bd"
      },
      "execution_count": 1,
      "outputs": [
        {
          "output_type": "stream",
          "name": "stdout",
          "text": [
            "Requirement already satisfied: flask in /usr/local/lib/python3.11/dist-packages (3.1.1)\n",
            "Requirement already satisfied: psycopg2-binary in /usr/local/lib/python3.11/dist-packages (2.9.10)\n",
            "Requirement already satisfied: flask-cors in /usr/local/lib/python3.11/dist-packages (6.0.1)\n",
            "Requirement already satisfied: blinker>=1.9.0 in /usr/local/lib/python3.11/dist-packages (from flask) (1.9.0)\n",
            "Requirement already satisfied: click>=8.1.3 in /usr/local/lib/python3.11/dist-packages (from flask) (8.2.1)\n",
            "Requirement already satisfied: itsdangerous>=2.2.0 in /usr/local/lib/python3.11/dist-packages (from flask) (2.2.0)\n",
            "Requirement already satisfied: jinja2>=3.1.2 in /usr/local/lib/python3.11/dist-packages (from flask) (3.1.6)\n",
            "Requirement already satisfied: markupsafe>=2.1.1 in /usr/local/lib/python3.11/dist-packages (from flask) (3.0.2)\n",
            "Requirement already satisfied: werkzeug>=3.1.0 in /usr/local/lib/python3.11/dist-packages (from flask) (3.1.3)\n"
          ]
        }
      ]
    },
    {
      "cell_type": "code",
      "source": [
        "!mkdir products_api\n",
        "%cd products_api"
      ],
      "metadata": {
        "colab": {
          "base_uri": "https://localhost:8080/"
        },
        "id": "Z5sYXrm4JjGy",
        "outputId": "e64226d4-f1b2-46e7-9d63-e0ac1ec1beda"
      },
      "execution_count": 3,
      "outputs": [
        {
          "output_type": "stream",
          "name": "stdout",
          "text": [
            "/content/products_api\n"
          ]
        }
      ]
    },
    {
      "cell_type": "code",
      "source": [
        "from flask import Flask, jsonify, request\n",
        "import psycopg2\n",
        "from psycopg2.extras import RealDictCursor\n",
        "\n",
        "app = Flask(__name__)\n",
        "\n",
        "# Database connection config\n",
        "DB_CONFIG = {\n",
        "    \"dbname\": \"store_db\",\n",
        "    \"user\": \"postgres\",        # 🔹 change this\n",
        "    \"password\": \"SQL123\", # 🔹 change this\n",
        "    \"host\": \"localhost\",\n",
        "    \"port\": \"5432\"\n",
        "}\n",
        "\n",
        "# Function to connect to DB\n",
        "def get_connection():\n",
        "    try:\n",
        "        return psycopg2.connect(**DB_CONFIG)\n",
        "    except Exception as e:\n",
        "        print(\"DB Connection Error:\", e)\n",
        "        return None\n",
        "\n",
        "# 1️⃣ Home route\n",
        "@app.route('/')\n",
        "def home():\n",
        "    return jsonify({\"message\": \"Welcome to the Products API\"}), 200\n",
        "\n",
        "# 2️⃣ Get all products with pagination\n",
        "@app.route('/products', methods=['GET'])\n",
        "def get_products():\n",
        "    try:\n",
        "        page = int(request.args.get('page', 1))\n",
        "        limit = int(request.args.get('limit', 20))\n",
        "        offset = (page - 1) * limit\n",
        "\n",
        "        conn = get_connection()\n",
        "        if not conn:\n",
        "            return jsonify({\"error\": \"Database connection failed\"}), 500\n",
        "\n",
        "        cur = conn.cursor(cursor_factory=RealDictCursor)\n",
        "        cur.execute(\"SELECT id, name, category, brand, retail_price FROM products ORDER BY id LIMIT %s OFFSET %s;\",\n",
        "                    (limit, offset))\n",
        "        products = cur.fetchall()\n",
        "        cur.close()\n",
        "        conn.close()\n",
        "\n",
        "        if not products:\n",
        "            return jsonify({\"message\": \"No products found\"}), 404\n",
        "\n",
        "        return jsonify({\"page\": page, \"limit\": limit, \"products\": products}), 200\n",
        "\n",
        "    except Exception as e:\n",
        "        return jsonify({\"error\": str(e)}), 500\n",
        "\n",
        "# 3️⃣ Get single product by ID\n",
        "@app.route('/products/<int:product_id>', methods=['GET'])\n",
        "def get_product(product_id):\n",
        "    try:\n",
        "        conn = get_connection()\n",
        "        if not conn:\n",
        "            return jsonify({\"error\": \"Database connection failed\"}), 500\n",
        "\n",
        "        cur = conn.cursor(cursor_factory=RealDictCursor)\n",
        "        cur.execute(\"SELECT id, name, category, brand, retail_price FROM products WHERE id = %s;\", (product_id,))\n",
        "        product = cur.fetchone()\n",
        "        cur.close()\n",
        "        conn.close()\n",
        "\n",
        "        if not product:\n",
        "            return jsonify({\"error\": \"Product not found\"}), 404\n",
        "\n",
        "        return jsonify(product), 200\n",
        "\n",
        "    except Exception as e:\n",
        "        return jsonify({\"error\": str(e)}), 500\n",
        "\n",
        "# 4️⃣ Error handler for invalid routes\n",
        "@app.errorhandler(404)\n",
        "def not_found(error):\n",
        "    return jsonify({\"error\": \"Endpoint not found\"}), 404\n",
        "\n",
        "# 5️⃣ Error handler for server errors\n",
        "@app.errorhandler(500)\n",
        "def server_error(error):\n",
        "    return jsonify({\"error\": \"Internal server error\"}), 500\n",
        "\n",
        "if __name__ == '__main__':\n",
        "    app.run(debug=True)\n"
      ],
      "metadata": {
        "colab": {
          "base_uri": "https://localhost:8080/"
        },
        "id": "TjIcxw5OJ0E5",
        "outputId": "63416da4-2c81-43b4-c707-7dcd9a4f11da"
      },
      "execution_count": null,
      "outputs": [
        {
          "output_type": "stream",
          "name": "stdout",
          "text": [
            " * Serving Flask app '__main__'\n",
            " * Debug mode: on\n"
          ]
        },
        {
          "output_type": "stream",
          "name": "stderr",
          "text": [
            "INFO:werkzeug:\u001b[31m\u001b[1mWARNING: This is a development server. Do not use it in a production deployment. Use a production WSGI server instead.\u001b[0m\n",
            " * Running on http://127.0.0.1:5000\n",
            "INFO:werkzeug:\u001b[33mPress CTRL+C to quit\u001b[0m\n",
            "INFO:werkzeug: * Restarting with stat\n"
          ]
        }
      ]
    },
    {
      "cell_type": "code",
      "metadata": {
        "colab": {
          "base_uri": "https://localhost:8080/"
        },
        "id": "3c69d9e0",
        "outputId": "ac450415-b011-46b8-f8a3-37f83975aa53"
      },
      "source": [
        "%%writefile app.py\n",
        "from flask import Flask, request, jsonify\n",
        "from flask_cors import CORS\n",
        "import psycopg2\n",
        "import os\n",
        "\n",
        "app = Flask(__name__)\n",
        "CORS(app)\n",
        "\n",
        "@app.route('/')\n",
        "def home():\n",
        "    return \"Welcome to the Products API!\"\n",
        "\n",
        "if __name__ == '__main__':\n",
        "    app.run(debug=True)"
      ],
      "execution_count": 4,
      "outputs": [
        {
          "output_type": "stream",
          "name": "stdout",
          "text": [
            "Writing app.py\n"
          ]
        }
      ]
    },
    {
      "cell_type": "code",
      "source": [],
      "metadata": {
        "id": "Bv0szXAmJ34i"
      },
      "execution_count": null,
      "outputs": []
    },
    {
      "cell_type": "code",
      "metadata": {
        "id": "91e29e2e"
      },
      "source": [
        "!python app.py"
      ],
      "execution_count": null,
      "outputs": []
    },
    {
      "cell_type": "code",
      "source": [
        "{\"message\": \"Welcome to the Products API\"}\n"
      ],
      "metadata": {
        "id": "QuvvQ51gKN7_"
      },
      "execution_count": null,
      "outputs": []
    },
    {
      "cell_type": "code",
      "source": [],
      "metadata": {
        "id": "R_faPKdLKUEB"
      },
      "execution_count": null,
      "outputs": []
    }
  ]
}